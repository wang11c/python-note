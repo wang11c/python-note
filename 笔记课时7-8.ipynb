{
 "cells": [
  {
   "cell_type": "markdown",
   "metadata": {},
   "source": [
    "#while循环\n",
    "-一个循环语句\n",
    "-表示当某条件成立的时候，就循环\n",
    "-具体循环次数不知道，但能确定循环的成立条件的时候用while循环\n",
    "-while语法：\n",
    "    while 条件表达式：\n",
    "        语句块"
   ]
  },
  {
   "cell_type": "code",
   "execution_count": 6,
   "metadata": {},
   "outputs": [
    {
     "name": "stdout",
     "output_type": "stream",
     "text": [
      "第1年拿了10670.0块钱\n",
      "第2年拿了11384.89块钱\n",
      "第3年拿了12147.677629999998块钱\n",
      "第4年拿了12961.572031209998块钱\n",
      "第5年拿了13829.997357301068块钱\n",
      "第6年拿了14756.607180240238块钱\n",
      "第7年拿了15745.299861316334块钱\n",
      "第8年拿了16800.23495202453块钱\n",
      "第9年拿了17925.85069381017块钱\n",
      "第10年拿了19126.88269029545块钱\n",
      "第11年拿了20408.383830545245块钱\n"
     ]
    }
   ],
   "source": [
    "#年利率是6.7%，本钱多少年后翻倍\n",
    "benqian = 10000\n",
    "year = 0\n",
    "while benqian < 20000:\n",
    "    benqian=benqian*(1+0.067)\n",
    "    year=year+1 #year+=1\n",
    "    print(\"第{0}年拿了{1}块钱\".format(year,benqian))\n"
   ]
  },
  {
   "cell_type": "markdown",
   "metadata": {},
   "source": [
    "另一种表达方式：\n",
    "    while 条件表达式：\n",
    "        语句块1\n",
    "    else:\n",
    "        语句块2\n",
    "        "
   ]
  },
  {
   "cell_type": "code",
   "execution_count": 8,
   "metadata": {},
   "outputs": [
    {
     "name": "stdout",
     "output_type": "stream",
     "text": [
      "第1年拿了10670.0块钱\n",
      "第2年拿了11384.89块钱\n",
      "第3年拿了12147.677629999998块钱\n",
      "第4年拿了12961.572031209998块钱\n",
      "第5年拿了13829.997357301068块钱\n",
      "第6年拿了14756.607180240238块钱\n",
      "第7年拿了15745.299861316334块钱\n",
      "第8年拿了16800.23495202453块钱\n",
      "第9年拿了17925.85069381017块钱\n",
      "第10年拿了19126.88269029545块钱\n",
      "第11年拿了20408.383830545245块钱\n",
      "终于翻倍了\n"
     ]
    }
   ],
   "source": [
    "benqian = 10000\n",
    "year = 0\n",
    "while benqian < 20000:\n",
    "    benqian=benqian*(1+0.067)\n",
    "    year=year+1 #year+=1\n",
    "    print(\"第{0}年拿了{1}块钱\".format(year,benqian))\n",
    "else:\n",
    "    print(\"终于翻倍了\")"
   ]
  },
  {
   "cell_type": "markdown",
   "metadata": {},
   "source": [
    "函数\n",
    "-代码的一种组织形式\n",
    "-函数使用需要先定义\n",
    "-使用函数，俗称调用\n",
    "#定义一个函数\n",
    "#只定义的话不会执行\n",
    "def func():\n",
    "    print(\"我是函数\")\n",
    "#函数的调用 \n",
    "func()\n",
    "直接函数名后面跟括号"
   ]
  },
  {
   "cell_type": "code",
   "execution_count": 11,
   "metadata": {},
   "outputs": [
    {
     "name": "stdout",
     "output_type": "stream",
     "text": [
      "我是函数\n"
     ]
    }
   ],
   "source": [
    "def func():\n",
    "    print(\"我是函数\")\n",
    "func()"
   ]
  },
  {
   "cell_type": "markdown",
   "metadata": {},
   "source": [
    "-参数：负责给函数传递一些必要的数据或者信息\n",
    "形式参数：在函数定义的时候用道德参数没有具体值，只是一个占位符号\n",
    "实际参数：在调用函数的时候输入的值\n",
    "-返回值：函数的执行结果"
   ]
  },
  {
   "cell_type": "code",
   "execution_count": 1,
   "metadata": {},
   "outputs": [
    {
     "name": "stdout",
     "output_type": "stream",
     "text": [
      "chuan，你好啊。\n",
      "sir\n"
     ]
    }
   ],
   "source": [
    "def hello(person):\n",
    "    print(\"{0}，你好啊。\".format(person))\n",
    "    print(\"sir\")\n",
    "hello (\"chuan\")"
   ]
  },
  {
   "cell_type": "code",
   "execution_count": 4,
   "metadata": {},
   "outputs": [
    {
     "name": "stdout",
     "output_type": "stream",
     "text": [
      "我跟chuan打招呼，chuan没理我\n"
     ]
    },
    {
     "data": {
      "text/plain": [
       "'不理我我走了'"
      ]
     },
     "execution_count": 4,
     "metadata": {},
     "output_type": "execute_result"
    }
   ],
   "source": [
    "#return语句，函数完后返回的一句话，一旦执行完，无条件返回，不管后面的\n",
    "def hi(person):\n",
    "    print(\"我跟{0}打招呼，{1}没理我\".format(person,person))\n",
    "    \n",
    "    return \"不理我我走了\"\n",
    "\n",
    "hi(\"chuan\")"
   ]
  },
  {
   "cell_type": "code",
   "execution_count": 6,
   "metadata": {},
   "outputs": [
    {
     "name": "stdout",
     "output_type": "stream",
     "text": [
      "我跟chuan打招呼，chuan没理我\n"
     ]
    },
    {
     "data": {
      "text/plain": [
       "'不理我我走了'"
      ]
     },
     "execution_count": 6,
     "metadata": {},
     "output_type": "execute_result"
    }
   ],
   "source": [
    "def hallo(person):\n",
    "    print(\"我跟{0}打招呼，{1}没理我\".format(person,person))\n",
    "    \n",
    "    return \"不理我我走了\"\n",
    "    print(\"走人了\")\n",
    "\n",
    "hallo(\"chuan\")"
   ]
  },
  {
   "cell_type": "code",
   "execution_count": 11,
   "metadata": {},
   "outputs": [
    {
     "name": "stdout",
     "output_type": "stream",
     "text": [
      "Help on built-in function print in module builtins:\n",
      "\n",
      "print(...)\n",
      "    print(value, ..., sep=' ', end='\\n', file=sys.stdout, flush=False)\n",
      "    \n",
      "    Prints the values to a stream, or to sys.stdout by default.\n",
      "    Optional keyword arguments:\n",
      "    file:  a file-like object (stream); defaults to the current sys.stdout.\n",
      "    sep:   string inserted between values, default a space.\n",
      "    end:   string appended after the last value, default a newline.\n",
      "    flush: whether to forcibly flush the stream.\n",
      "\n"
     ]
    }
   ],
   "source": [
    "#查找函数帮助文档，用help函数\n",
    "help(print)"
   ]
  },
  {
   "cell_type": "markdown",
   "metadata": {},
   "source": [
    "参数分类\n",
    "-普通参数\n",
    "-默认参数\n",
    "-关键字参数\n",
    "-收集参数\n",
    "\n",
    "普通参数\n",
    "-定义的时候直接定义变量名\n",
    "-调用的时候直接把变量或者值放入指定位置\n",
    "\n",
    "    def 函数名(参数1，参数2,...)：\n",
    "        函数体\n",
    "        \n",
    "    调用\n",
    "    函数名(value1, value2,...):\n",
    "    \n",
    "    调用的时候，具体值参考的是位置，按位置赋值\n",
    "\n",
    "默认参数\n",
    "-形参带有默认值\n",
    "-调用的时候，如果没有相对应的参赋值，则使用默认值\n",
    "\n",
    "    def func_name(pv=v1,pv=v2,...):\n",
    "        func_block\n",
    "        \n",
    "    调用1\n",
    "    func_name()  \n",
    "    用参数默认值\n",
    "    \n",
    "    调用2\n",
    "    value1=100\n",
    "    value2=200\n",
    "    func-name(value1,value2)\n",
    "    自己赋值"
   ]
  },
  {
   "cell_type": "code",
   "execution_count": 19,
   "metadata": {},
   "outputs": [
    {
     "name": "stdout",
     "output_type": "stream",
     "text": [
      "史伯爵 is 18 years old, and he is a good student.\n",
      "史伯爵 is 18 years old, and she is a good student.\n"
     ]
    }
   ],
   "source": [
    "#默认参数示例：(默认男生)\n",
    "def reg(name, age, gender=\"male\"):\n",
    "    if gender ==\"male\":\n",
    "        print(\"{0} is {1} years old, and he is a good student.\".format(name,age))\n",
    "    else:\n",
    "        print(\"{0} is {1} years old, and she is a good student.\".format(name,age))\n",
    "reg(\"史伯爵\",18)    \n",
    "reg(\"史伯爵\",18,\"female\")   "
   ]
  },
  {
   "cell_type": "markdown",
   "metadata": {},
   "source": [
    "关键字参数\n",
    "语法\n",
    "    def func(p1=v1,p2=v2,...):\n",
    "        func_body\n",
    "       \n",
    "    调用函数：\n",
    "    func(p1=value1,p2=value2,...)\n",
    "\n",
    "比较麻烦，但也有好处：\n",
    "-不容易混淆，一般实参和形参只是按照位置一一对应即可，容易出错\n",
    "-关键字参数，可以不考虑参数位置"
   ]
  },
  {
   "cell_type": "code",
   "execution_count": 22,
   "metadata": {},
   "outputs": [
    {
     "name": "stdout",
     "output_type": "stream",
     "text": [
      "I am a student\n",
      "我叫chuan,我今年18岁了,我住西单\n"
     ]
    }
   ],
   "source": [
    "def stu(name,age,addr):\n",
    "    print(\"I am a student\")\n",
    "    print(\"我叫{0},我今年{1}岁了,我住{2}\".format(name,age,addr))\n",
    "\n",
    "n= \"chuan\"\n",
    "a=18\n",
    "addr=\"西单\"\n",
    "stu(n,a,addr)\n",
    "#普通参数   "
   ]
  },
  {
   "cell_type": "code",
   "execution_count": 4,
   "metadata": {},
   "outputs": [
    {
     "name": "stdout",
     "output_type": "stream",
     "text": [
      "I am a student\n",
      "我叫chuan,我今年18岁了,我住西单\n"
     ]
    }
   ],
   "source": [
    "#关键字参数\n",
    "def stu_key(name=\"no name\",age=0,addr=\"no addr\"):\n",
    "    print(\"I am a student\")\n",
    "    print(\"我叫{0},我今年{1}岁了,我住{2}\".format(name,age,addr))\n",
    "\n",
    "n= \"chuan\"\n",
    "a=18\n",
    "addr=\"西单\"\n",
    "stu_key(name=n,age=a,addr=addr)"
   ]
  },
  {
   "cell_type": "markdown",
   "metadata": {},
   "source": [
    "#收集参数\n",
    "-把没有位置，不能和定义时的参数位置相对应的参数，放入一个特定的数据结构中\n",
    "-语法\n",
    "\n",
    "    def func(*args):\n",
    "        func_body\n",
    "        \n",
    "    调用：\n",
    "    func(p1,p2,p3,...)\n",
    "-参数名args不是必须这么写，但是推荐直接用args，约定俗成\n",
    "-参数名args前需要加星号*\n",
    "-收集参数可以和其他参数并存\n",
    "-把args看成一个列表List"
   ]
  },
  {
   "cell_type": "code",
   "execution_count": 7,
   "metadata": {},
   "outputs": [
    {
     "name": "stdout",
     "output_type": "stream",
     "text": [
      "hello,大家好，我自我介绍下：\n",
      "<class 'tuple'>\n",
      "chuan\n",
      "18\n",
      "北京\n",
      "single\n",
      "hello,大家好，我自我介绍下：\n",
      "<class 'tuple'>\n",
      "王先森\n"
     ]
    }
   ],
   "source": [
    "#函数模拟一个学生进行自我介绍，但具体内容不清楚\n",
    "def stu(*args):\n",
    "    print(\"hello,大家好，我自我介绍下：\")\n",
    "    #type函数作用是检测变量的类型\n",
    "    print(type(args))\n",
    "    for item in args:\n",
    "        print(item)\n",
    "\n",
    "stu(\"chuan\",18,\"北京\",\"single\")\n",
    "stu(\"王先森\")"
   ]
  },
  {
   "cell_type": "code",
   "execution_count": 9,
   "metadata": {},
   "outputs": [
    {
     "name": "stdout",
     "output_type": "stream",
     "text": [
      "hello,大家好，我自我介绍下：\n",
      "<class 'tuple'>\n"
     ]
    }
   ],
   "source": [
    "#收集参数案例\n",
    "#说明收集参数可以不带任何实参调用，此时收集参数为空tuple\n",
    "stu()"
   ]
  },
  {
   "cell_type": "markdown",
   "metadata": {},
   "source": [
    "收集参数之关键字收集参数\n",
    "-把关键字参数按字典格式存入收集参数\n",
    "    def func(**kwargs):\n",
    "        func_body\n",
    "    \n",
    "    调用\n",
    "    func(p1=v1,p2=v2,...)\n",
    "    \n",
    "-kwargs一般约定俗成\n",
    "-调用的时候，把多余的关键字参数放入kwargs\n",
    "-访问kwargs需要按字典格式访问"
   ]
  },
  {
   "cell_type": "code",
   "execution_count": 18,
   "metadata": {},
   "outputs": [
    {
     "name": "stdout",
     "output_type": "stream",
     "text": [
      "hello,自我介绍下\n",
      "<class 'dict'>\n",
      "name --- chuan\n",
      "age --- 18\n",
      "addr --- 北京西城\n",
      "work --- porn\n",
      "*******************\n",
      "hello,自我介绍下\n",
      "<class 'dict'>\n",
      "name --- chuan\n"
     ]
    }
   ],
   "source": [
    "def stu(**kwargs):\n",
    "    print(\"hello,自我介绍下\")\n",
    "    print(type(kwargs))\n",
    "    for k,v in kwargs.items(): #key --- value\n",
    "        print(k,\"---\",v)\n",
    "\n",
    "stu(name=\"chuan\",age=18,addr=\"北京西城\",work=\"porn\")\n",
    "print(\"*******************\")\n",
    "stu(name=\"chuan\")"
   ]
  },
  {
   "cell_type": "code",
   "execution_count": 20,
   "metadata": {},
   "outputs": [
    {
     "name": "stdout",
     "output_type": "stream",
     "text": [
      "hello,自我介绍下\n",
      "<class 'dict'>\n"
     ]
    }
   ],
   "source": [
    "#收集参数为空的案例\n",
    "stu()"
   ]
  },
  {
   "cell_type": "markdown",
   "metadata": {},
   "source": [
    "收集参数混合调用的顺序问题\n",
    "-收集参数，关键字参数，普通参数可以混合使用\n",
    "-使用规则就是，普通参数和关键字参数优先\n",
    "-定义的时候一般找普通参数，关键字参数，收集参数tuple，收集参数dict"
   ]
  },
  {
   "cell_type": "code",
   "execution_count": 40,
   "metadata": {},
   "outputs": [
    {
     "name": "stdout",
     "output_type": "stream",
     "text": [
      "hello,大家好\n",
      "我叫chuan,我今年18岁了。\n",
      "我没有爱好\n",
      "******************************\n",
      "**************************************************\n",
      "hello,大家好\n",
      "我叫chuan,我今年18岁了。\n",
      "我的爱好是游泳\n",
      "******************************\n",
      "**************************************************\n"
     ]
    }
   ],
   "source": [
    "#收集参数混合调用案例\n",
    "#模拟学生自我介绍\n",
    "def stu(name,age,hobby=\"没有\",*args,**kwargs):\n",
    "    print(\"hello,大家好\")\n",
    "    print(\"我叫{0},我今年{1}岁了。\".format(name,age))\n",
    "    if hobby==\"没有\":\n",
    "        print(\"我没有爱好\")\n",
    "    else:\n",
    "        print(\"我的爱好是{0}\".format(hobby))\n",
    "\n",
    "    print(\"*\" *30)\n",
    "\n",
    "    for i in args:\n",
    "        print(i)\n",
    "\n",
    "    print(\"*\" *50)\n",
    "\n",
    "    for k,v in kwargs:\n",
    "        print(k,\"---\",v)\n",
    "    \n",
    "name=\"chuan\"\n",
    "age=18\n",
    "\n",
    "stu(name, age)\n",
    "stu(name, age,hobby=\"游泳\")"
   ]
  },
  {
   "cell_type": "markdown",
   "metadata": {},
   "source": [
    "#收集参数的解包问题\n",
    "-把参数放入list或者字典中，或者把list/dict中的值放入收集参数中"
   ]
  },
  {
   "cell_type": "code",
   "execution_count": 45,
   "metadata": {},
   "outputs": [
    {
     "name": "stdout",
     "output_type": "stream",
     "text": [
      "哈哈哈哈哈\n",
      "1\n",
      "2\n",
      "3\n",
      "4\n",
      "5\n"
     ]
    }
   ],
   "source": [
    "def stu(*args):\n",
    "    print(\"哈哈哈哈哈\")\n",
    "    for i in args:\n",
    "        print(i)\n",
    "\n",
    "stu(1,2,3,4,5)"
   ]
  },
  {
   "cell_type": "markdown",
   "metadata": {},
   "source": [
    "#函数文档\n",
    "-函数的文档的作用是对当前函数提供使用相关的参考信息\n",
    "-文档的写法：\n",
    "    -在函数内部开始的第一行使用三引号字符串定义符\n",
    "    -一般具有特定格式\n",
    "-文档查看\n",
    "    -使用help函数，形如help(func)\n",
    "    -使用__doc__"
   ]
  },
  {
   "cell_type": "code",
   "execution_count": 89,
   "metadata": {},
   "outputs": [
    {
     "name": "stdout",
     "output_type": "stream",
     "text": [
      "this is hanshu stu\n"
     ]
    }
   ],
   "source": [
    "def stu(name,age,*args):\n",
    "    '''\n",
    "    这是文档\n",
    "    '''      #更推崇使用三字符串\n",
    "print(\"this is hanshu stu\")"
   ]
  },
  {
   "cell_type": "code",
   "execution_count": 86,
   "metadata": {},
   "outputs": [
    {
     "name": "stdout",
     "output_type": "stream",
     "text": [
      "Help on function stu in module __main__:\n",
      "\n",
      "stu(name, age, *args)\n",
      "    这是文档\n",
      "\n"
     ]
    }
   ],
   "source": [
    "help(stu)"
   ]
  },
  {
   "cell_type": "code",
   "execution_count": 90,
   "metadata": {},
   "outputs": [
    {
     "data": {
      "text/plain": [
       "'\\n    这是文档\\n    '"
      ]
     },
     "execution_count": 90,
     "metadata": {},
     "output_type": "execute_result"
    }
   ],
   "source": [
    "stu.__doc__"
   ]
  }
 ],
 "metadata": {
  "kernelspec": {
   "display_name": "Python 3",
   "language": "python",
   "name": "python3"
  },
  "language_info": {
   "codemirror_mode": {
    "name": "ipython",
    "version": 3
   },
   "file_extension": ".py",
   "mimetype": "text/x-python",
   "name": "python",
   "nbconvert_exporter": "python",
   "pygments_lexer": "ipython3",
   "version": "3.7.0"
  }
 },
 "nbformat": 4,
 "nbformat_minor": 2
}
