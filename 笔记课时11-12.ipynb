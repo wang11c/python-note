{
 "cells": [
  {
   "cell_type": "code",
   "execution_count": 4,
   "metadata": {},
   "outputs": [
    {
     "name": "stdout",
     "output_type": "stream",
     "text": [
      "[1, 2, 3, 4, 5, 6]\n",
      "[1, 2, 300, 4, 5, 6]\n",
      "[1, 2, 300, 4, 5, 6]\n",
      "9\n",
      "109\n",
      "9\n"
     ]
    }
   ],
   "source": [
    "def a(n):\n",
    "    n[2] = 300\n",
    "    print(n)\n",
    "    return None\n",
    "\n",
    "def b(n):\n",
    "    n+=100\n",
    "    print(n)\n",
    "    return None\n",
    "\n",
    "an=[1,2,3,4,5,6]\n",
    "bn=9\n",
    "\n",
    "print(an)\n",
    "a(an)\n",
    "print(an)\n",
    "\n",
    "print(bn)\n",
    "b(bn)\n",
    "print(bn)\n",
    "#同样两个函数，一个变完了后改了原函数，一个没改，改了叫传地址（复杂变了），没改叫传值（简单变量）"
   ]
  },
  {
   "cell_type": "code",
   "execution_count": 5,
   "metadata": {},
   "outputs": [],
   "source": [
    "#关于列表的函数"
   ]
  },
  {
   "cell_type": "code",
   "execution_count": 15,
   "metadata": {},
   "outputs": [
    {
     "data": {
      "text/plain": [
       "['a', 'i love you', 12, 34, 45, (5+4j)]"
      ]
     },
     "execution_count": 15,
     "metadata": {},
     "output_type": "execute_result"
    }
   ],
   "source": [
    "l=['a','i love you',12,34,45,(5+4j)]\n",
    "l"
   ]
  },
  {
   "cell_type": "code",
   "execution_count": 16,
   "metadata": {},
   "outputs": [
    {
     "name": "stdout",
     "output_type": "stream",
     "text": [
      "[1, 2, 3, 4]\n",
      "[1, 2, 3, 4, 100]\n"
     ]
    }
   ],
   "source": [
    "#append 在末尾插入一个内容\n",
    "a=[i for i in range(1,5)]\n",
    "print(a)\n",
    "a.append(100)\n",
    "print(a)"
   ]
  },
  {
   "cell_type": "code",
   "execution_count": 20,
   "metadata": {},
   "outputs": [
    {
     "name": "stdout",
     "output_type": "stream",
     "text": [
      "[1, 2, 3, 4]\n",
      "[1, 2, 3, 666, 4]\n"
     ]
    }
   ],
   "source": [
    "#insert 在指定位置插入  insert(位置,data)\n",
    "a=[i for i in range(1,5)]\n",
    "print(a)\n",
    "a.insert(3,666)\n",
    "print(a)"
   ]
  },
  {
   "cell_type": "code",
   "execution_count": 22,
   "metadata": {},
   "outputs": [
    {
     "name": "stdout",
     "output_type": "stream",
     "text": [
      "[1, 2, 3, 4]\n",
      "4\n",
      "[1, 2, 3]\n"
     ]
    }
   ],
   "source": [
    "#删除\n",
    "#del\n",
    "#pop,从对位拿出一个元素，即把最后一个元素取出来\n",
    "a=[i for i in range(1,5)]\n",
    "print(a)\n",
    "last_ele=a.pop()\n",
    "print(last_ele)\n",
    "print(a)"
   ]
  },
  {
   "cell_type": "code",
   "execution_count": 27,
   "metadata": {},
   "outputs": [
    {
     "name": "stdout",
     "output_type": "stream",
     "text": [
      "[1, 2, 3, 4]\n",
      "[1, 3, 4]\n"
     ]
    }
   ],
   "source": [
    "#remove 在列表中删除指定的值,前提是必须要有被删除的值\n",
    "a=[i for i in range(1,5)]\n",
    "print(a)\n",
    "a.remove(2)\n",
    "print(a)"
   ]
  },
  {
   "cell_type": "code",
   "execution_count": 29,
   "metadata": {},
   "outputs": [
    {
     "name": "stdout",
     "output_type": "stream",
     "text": [
      "[1, 3, 4]\n"
     ]
    }
   ],
   "source": [
    "a=[i for i in range(1,5)]\n",
    "if 2 in a:\n",
    "    a.remove(2)\n",
    "print(a)\n",
    "#remove在原list操作"
   ]
  },
  {
   "cell_type": "code",
   "execution_count": 30,
   "metadata": {},
   "outputs": [
    {
     "name": "stdout",
     "output_type": "stream",
     "text": [
      "[]\n"
     ]
    }
   ],
   "source": [
    "#clear 清空\n",
    "a=[i for i in range(1,5)]\n",
    "a.clear()\n",
    "print(a)"
   ]
  },
  {
   "cell_type": "code",
   "execution_count": 32,
   "metadata": {},
   "outputs": [
    {
     "name": "stdout",
     "output_type": "stream",
     "text": [
      "[1, 3, 4, 5]\n",
      "787489825736\n",
      "[5, 4, 3, 1]\n",
      "787489825736\n"
     ]
    }
   ],
   "source": [
    "#reverse 翻转列表内容，原地翻转\n",
    "a=[1,3,4,5]\n",
    "print(a)\n",
    "print(id(a))\n",
    "\n",
    "a.reverse()\n",
    "print(a)\n",
    "print(id(a))"
   ]
  },
  {
   "cell_type": "code",
   "execution_count": 34,
   "metadata": {},
   "outputs": [
    {
     "data": {
      "text/plain": [
       "[1, 3, 4, 5, 6, 7, 8, 9]"
      ]
     },
     "execution_count": 34,
     "metadata": {},
     "output_type": "execute_result"
    }
   ],
   "source": [
    "#extend 扩展列表，两个列表，把一个直接拼到后一个上\n",
    "a=[1,3,4,5]\n",
    "b=[6,7,8,9]\n",
    "a.extend(b)\n",
    "a"
   ]
  },
  {
   "cell_type": "code",
   "execution_count": 38,
   "metadata": {},
   "outputs": [
    {
     "name": "stdout",
     "output_type": "stream",
     "text": [
      "1\n",
      "2\n"
     ]
    }
   ],
   "source": [
    "#count 查找列表中指定值或元素的个数\n",
    "a=[1,3,4,5,5]\n",
    "a_len=a.count(3)\n",
    "print(a_len)\n",
    "#有一个3\n",
    "a_len=a.count(5)\n",
    "print(a_len)\n",
    "#有两个5"
   ]
  },
  {
   "cell_type": "code",
   "execution_count": 51,
   "metadata": {},
   "outputs": [
    {
     "name": "stdout",
     "output_type": "stream",
     "text": [
      "[1, 2, 888, 4, 5, 6, 777]\n",
      "[1, 2, 888, 4, 5, 6, 777]\n",
      "787499738120\n",
      "787499738120\n",
      "******************************\n",
      "[1, 2, 888, 4, 5, 6, 777]\n",
      "[1, 2, 888, 4, 5, 6, 777]\n",
      "787499738120\n",
      "787499740808\n"
     ]
    }
   ],
   "source": [
    "#copy 拷贝\n",
    "a=[1,2,3,4,5,6,777]\n",
    "b=a\n",
    "b[2]=888\n",
    "print(a)\n",
    "print(b)\n",
    "print(id(a))\n",
    "print(id(b))\n",
    "#用=左右地址相同\n",
    "\n",
    "print('*'*30)\n",
    "\n",
    "b=a.copy()\n",
    "b\n",
    "print(a)\n",
    "print(b)\n",
    "print(id(a))\n",
    "print(id(b))\n",
    "#copy的地址不同"
   ]
  },
  {
   "cell_type": "code",
   "execution_count": 57,
   "metadata": {},
   "outputs": [
    {
     "name": "stdout",
     "output_type": "stream",
     "text": [
      "******************************\n",
      "787489721608\n",
      "787499740360\n",
      "******************************\n",
      "787490000264\n",
      "787490000264\n",
      "******************************\n",
      "[1, 2, 3, [4, 5, 666]]\n",
      "[1, 2, 3, [4, 5, 666]]\n"
     ]
    }
   ],
   "source": [
    "#浅拷贝\n",
    "a=[1,2,3,[4,5,6]]\n",
    "b=a.copy()\n",
    "\n",
    "print('*'*30)\n",
    "\n",
    "print(id(a))\n",
    "print(id(b))\n",
    "\n",
    "print('*'*30)\n",
    "\n",
    "print(id(a[3]))\n",
    "print(id(b[3]))\n",
    "#但是copy里面更深一层的来源相同，地址相同\n",
    "\n",
    "print('*'*30)\n",
    "\n",
    "a[3][2]=666\n",
    "print(a)\n",
    "print(b)\n",
    "#copy函数是浅拷贝，即只拷贝一层内容，改了一个就都改了"
   ]
  },
  {
   "cell_type": "markdown",
   "metadata": {},
   "source": [
    "元组-tuple\n",
    "- 元组可以看成一个不可更改的list\n",
    "创建元组"
   ]
  },
  {
   "cell_type": "code",
   "execution_count": 58,
   "metadata": {},
   "outputs": [
    {
     "name": "stdout",
     "output_type": "stream",
     "text": [
      "<class 'tuple'>\n"
     ]
    }
   ],
   "source": [
    "#创建空元组\n",
    "t=()\n",
    "print(type(t))"
   ]
  },
  {
   "cell_type": "code",
   "execution_count": 61,
   "metadata": {},
   "outputs": [
    {
     "name": "stdout",
     "output_type": "stream",
     "text": [
      "<class 'tuple'>\n",
      "(1,)\n",
      "<class 'int'>\n",
      "1\n"
     ]
    }
   ],
   "source": [
    "#创建一个只有一个值的元组\n",
    "t=(1,)\n",
    "print(type(t))\n",
    "print(t)\n",
    "\n",
    "m=(1)\n",
    "print(type(m))\n",
    "print(m)"
   ]
  },
  {
   "cell_type": "code",
   "execution_count": 62,
   "metadata": {},
   "outputs": [
    {
     "name": "stdout",
     "output_type": "stream",
     "text": [
      "<class 'tuple'>\n",
      "(1,)\n"
     ]
    }
   ],
   "source": [
    "t=1,\n",
    "print(type(t))\n",
    "print(t)"
   ]
  },
  {
   "cell_type": "code",
   "execution_count": 64,
   "metadata": {},
   "outputs": [
    {
     "name": "stdout",
     "output_type": "stream",
     "text": [
      "<class 'tuple'>\n",
      "(1, 2, 3, 4, 5)\n"
     ]
    }
   ],
   "source": [
    "#创建多个值的元组\n",
    "t=(1,2,3,4,5)\n",
    "print(type(t))\n",
    "print(t)"
   ]
  },
  {
   "cell_type": "code",
   "execution_count": 65,
   "metadata": {},
   "outputs": [
    {
     "data": {
      "text/plain": [
       "(1, 2, 3, 4, 5)"
      ]
     },
     "execution_count": 65,
     "metadata": {},
     "output_type": "execute_result"
    }
   ],
   "source": [
    "#其他结构改成元组\n",
    "l=[1,2,3,4,5]\n",
    "t=tuple(l)\n",
    "t"
   ]
  },
  {
   "cell_type": "markdown",
   "metadata": {},
   "source": [
    "元组特点\n",
    "-是序列表，有序\n",
    "-元组数值可以访问，不能修改\n",
    "-元组数据可以是任意类型\n",
    "-list所有特性，除了可修改外，元组都有，比如索引，分片，序列相加，相乘等"
   ]
  },
  {
   "cell_type": "code",
   "execution_count": 66,
   "metadata": {},
   "outputs": [
    {
     "name": "stdout",
     "output_type": "stream",
     "text": [
      "5\n"
     ]
    }
   ],
   "source": [
    "#索引操作\n",
    "t=(1,2,3,4,5)\n",
    "print(t[4])"
   ]
  },
  {
   "cell_type": "code",
   "execution_count": 68,
   "metadata": {},
   "outputs": [
    {
     "ename": "IndexError",
     "evalue": "tuple index out of range",
     "output_type": "error",
     "traceback": [
      "\u001b[1;31m---------------------------------------------------------------------------\u001b[0m",
      "\u001b[1;31mIndexError\u001b[0m                                Traceback (most recent call last)",
      "\u001b[1;32m<ipython-input-68-8853473d8758>\u001b[0m in \u001b[0;36m<module>\u001b[1;34m()\u001b[0m\n\u001b[0;32m      1\u001b[0m \u001b[1;31m#超标错误\u001b[0m\u001b[1;33m\u001b[0m\u001b[1;33m\u001b[0m\u001b[0m\n\u001b[0;32m      2\u001b[0m \u001b[0mt\u001b[0m\u001b[1;33m=\u001b[0m\u001b[1;33m(\u001b[0m\u001b[1;36m1\u001b[0m\u001b[1;33m,\u001b[0m\u001b[1;36m2\u001b[0m\u001b[1;33m,\u001b[0m\u001b[1;36m3\u001b[0m\u001b[1;33m,\u001b[0m\u001b[1;36m4\u001b[0m\u001b[1;33m,\u001b[0m\u001b[1;36m5\u001b[0m\u001b[1;33m)\u001b[0m\u001b[1;33m\u001b[0m\u001b[0m\n\u001b[1;32m----> 3\u001b[1;33m \u001b[0mprint\u001b[0m\u001b[1;33m(\u001b[0m\u001b[0mt\u001b[0m\u001b[1;33m[\u001b[0m\u001b[1;36m10\u001b[0m\u001b[1;33m]\u001b[0m\u001b[1;33m)\u001b[0m\u001b[1;33m\u001b[0m\u001b[0m\n\u001b[0m",
      "\u001b[1;31mIndexError\u001b[0m: tuple index out of range"
     ]
    }
   ],
   "source": [
    "#超标错误\n",
    "t=(1,2,3,4,5)\n",
    "print(t[10])"
   ]
  },
  {
   "cell_type": "code",
   "execution_count": 71,
   "metadata": {},
   "outputs": [
    {
     "name": "stdout",
     "output_type": "stream",
     "text": [
      "787499530904\n",
      "787476559432\n",
      "(2, 4)\n"
     ]
    },
    {
     "data": {
      "text/plain": [
       "(3, 4, 5)"
      ]
     },
     "execution_count": 71,
     "metadata": {},
     "output_type": "execute_result"
    }
   ],
   "source": [
    "t=(1,2,3,4,5)\n",
    "t1=t[1::2]\n",
    "print(id(t))\n",
    "print(id(t1))\n",
    "print(t1)\n",
    "\n",
    "#切片可以超标\n",
    "t2=t[2:100]\n",
    "t2"
   ]
  },
  {
   "cell_type": "code",
   "execution_count": 74,
   "metadata": {},
   "outputs": [
    {
     "name": "stdout",
     "output_type": "stream",
     "text": [
      "(1, 2, 4)\n",
      "787489950888\n",
      "(1, 2, 4, 5, 6, 7)\n",
      "787489529576\n"
     ]
    }
   ],
   "source": [
    "#序列相加\n",
    "t1=(1,2,4)\n",
    "t2=(5,6,7)\n",
    "\n",
    "#传址操作\n",
    "print(t1)\n",
    "print(id(t1))\n",
    "t1+=t2\n",
    "print(t1)\n",
    "print(id(t1))\n",
    "#传址操作，所以可以改,tuple的不可修改，是指内容的不可修改"
   ]
  },
  {
   "cell_type": "code",
   "execution_count": 75,
   "metadata": {},
   "outputs": [
    {
     "name": "stdout",
     "output_type": "stream",
     "text": [
      "(1, 2, 3, 1, 2, 3, 1, 2, 3)\n"
     ]
    }
   ],
   "source": [
    "#元组相乘\n",
    "t=(1,2,3)\n",
    "t=t*3\n",
    "print(t)"
   ]
  },
  {
   "cell_type": "code",
   "execution_count": 77,
   "metadata": {},
   "outputs": [
    {
     "name": "stdout",
     "output_type": "stream",
     "text": [
      "yes\n"
     ]
    }
   ],
   "source": [
    "#成员检测\n",
    "t=(1,2,3) \n",
    "if 2 in t:\n",
    "    print(\"yes\")\n",
    "else:\n",
    "    print(\"no\")"
   ]
  },
  {
   "cell_type": "code",
   "execution_count": 82,
   "metadata": {},
   "outputs": [
    {
     "name": "stdout",
     "output_type": "stream",
     "text": [
      "1 2 3 i love you "
     ]
    }
   ],
   "source": [
    "#元组遍历，一般采用for\n",
    "t=(1,2,3,\"i love you\")\n",
    "for i in t:\n",
    "    print(i,end=\" \")"
   ]
  },
  {
   "cell_type": "code",
   "execution_count": 85,
   "metadata": {},
   "outputs": [
    {
     "name": "stdout",
     "output_type": "stream",
     "text": [
      "(1, 2, 3)\n",
      "(4, 5, 6)\n",
      "1 --- 2 --- 3\n",
      "4 --- 5 --- 6\n"
     ]
    }
   ],
   "source": [
    "#双层元组的遍历\n",
    "t=((1,2,3),(4,5,6))\n",
    "for i in t:\n",
    "    print(i)\n",
    "for k,m,n in t:\n",
    "    print(k,\"---\",m,\"---\",n)"
   ]
  },
  {
   "cell_type": "code",
   "execution_count": 2,
   "metadata": {},
   "outputs": [
    {
     "data": {
      "text/plain": [
       "3"
      ]
     },
     "execution_count": 2,
     "metadata": {},
     "output_type": "execute_result"
    }
   ],
   "source": [
    "#关于元组的函数\n",
    "#len:获取元组的长度\n",
    "t=(1,2,3)\n",
    "len(t)"
   ]
  },
  {
   "cell_type": "code",
   "execution_count": 4,
   "metadata": {},
   "outputs": [
    {
     "name": "stdout",
     "output_type": "stream",
     "text": [
      "3\n",
      "1\n"
     ]
    }
   ],
   "source": [
    "#max,min:最大值最小值  如果列表或元组中有多个最大最小值，则实际打印出哪个\n",
    "print(max(t))\n",
    "print(min(t))"
   ]
  },
  {
   "cell_type": "code",
   "execution_count": 8,
   "metadata": {},
   "outputs": [
    {
     "name": "stdout",
     "output_type": "stream",
     "text": [
      "(1, 2, 3, 4, 5)\n"
     ]
    }
   ],
   "source": [
    "#tuple:转化或创建元组\n",
    "l=[1,2,3,4,5]\n",
    "t=tuple(l)\n",
    "print(t)"
   ]
  },
  {
   "cell_type": "code",
   "execution_count": null,
   "metadata": {},
   "outputs": [],
   "source": [
    "#元组的函数 基本跟list通用"
   ]
  },
  {
   "cell_type": "code",
   "execution_count": 17,
   "metadata": {},
   "outputs": [
    {
     "name": "stdout",
     "output_type": "stream",
     "text": [
      "1\n",
      "0\n",
      "2\n"
     ]
    }
   ],
   "source": [
    "#count:计算指定数据出现的次数\n",
    "t=(2,3,4,4,6,7,8)\n",
    "print(t.count(2))\n",
    "\n",
    "#index：求指定元素在元组中的索引位置\n",
    "print(t.index(2))\n",
    "\n",
    "#如果查找多个，则返回第一个\n",
    "print(t.index(4))"
   ]
  },
  {
   "cell_type": "code",
   "execution_count": null,
   "metadata": {},
   "outputs": [],
   "source": [
    "#元组变量交换"
   ]
  },
  {
   "cell_type": "code",
   "execution_count": 18,
   "metadata": {},
   "outputs": [
    {
     "name": "stdout",
     "output_type": "stream",
     "text": [
      "3\n",
      "1\n"
     ]
    }
   ],
   "source": [
    "#两个变量交换值\n",
    "a=1\n",
    "b=3\n",
    "a,b=b,a\n",
    "\n",
    "print(a)\n",
    "print(b)"
   ]
  },
  {
   "cell_type": "markdown",
   "metadata": {},
   "source": [
    "集合-set\n",
    "-集合是高中数学中的一个概念\n",
    "-一对确定的无序的唯一的数据，集合中每一个数据成为一个元素"
   ]
  },
  {
   "cell_type": "code",
   "execution_count": 19,
   "metadata": {},
   "outputs": [
    {
     "name": "stdout",
     "output_type": "stream",
     "text": [
      "<class 'set'>\n"
     ]
    }
   ],
   "source": [
    "#集合的定义\n",
    "s=set()\n",
    "print(type(s))"
   ]
  },
  {
   "cell_type": "code",
   "execution_count": 21,
   "metadata": {},
   "outputs": [
    {
     "name": "stdout",
     "output_type": "stream",
     "text": [
      "<class 'dict'>\n"
     ]
    }
   ],
   "source": [
    "#如果只是用大括号定义，则定义的是一个dict类型\n",
    "d={}\n",
    "print(type(d))"
   ]
  },
  {
   "cell_type": "markdown",
   "metadata": {},
   "source": [
    "集合的特征 \n",
    "-集合内数据无序，无法使用索引和分片\n",
    "-集合内部数据元素具有唯一性，可以用来排除重复数据\n",
    "-集合内的数据，str,int,float,tuple，冰冻集合等"
   ]
  },
  {
   "cell_type": "code",
   "execution_count": 26,
   "metadata": {},
   "outputs": [
    {
     "name": "stdout",
     "output_type": "stream",
     "text": [
      "{1, 2, 'i love', 4}\n",
      "OK\n"
     ]
    }
   ],
   "source": [
    "#集合序列操作\n",
    "#成员检测 in, not in\n",
    "s={1,2,4,\"i love\"}\n",
    "print(s)\n",
    "\n",
    "if 1 in s:\n",
    "    print(\"OK\")\n",
    "\n",
    "if 1 not in s:\n",
    "    print(\"not OK\")"
   ]
  },
  {
   "cell_type": "code",
   "execution_count": 27,
   "metadata": {},
   "outputs": [
    {
     "name": "stdout",
     "output_type": "stream",
     "text": [
      "12i love4"
     ]
    }
   ],
   "source": [
    "#集合便利操作\n",
    "#for循环\n",
    "s={1,2,4,\"i love\"}\n",
    "\n",
    "for i in s:\n",
    "    print(i,end=\"\")"
   ]
  },
  {
   "cell_type": "code",
   "execution_count": 31,
   "metadata": {},
   "outputs": [
    {
     "name": "stdout",
     "output_type": "stream",
     "text": [
      "i -- love -- you\n",
      "2 -- 5 -- 6\n",
      "1 -- 3 -- 4\n"
     ]
    }
   ],
   "source": [
    "#带有元组的集合遍历\n",
    "s={(1,3,4),(2,5,6),(\"i\",\"love\",\"you\")}\n",
    "for k,m,n in s:\n",
    "    print(k,\"--\",m,\"--\",n)"
   ]
  },
  {
   "cell_type": "code",
   "execution_count": null,
   "metadata": {},
   "outputs": [],
   "source": []
  },
  {
   "cell_type": "code",
   "execution_count": 35,
   "metadata": {},
   "outputs": [
    {
     "name": "stdout",
     "output_type": "stream",
     "text": [
      "{67, 3, 7, 12, 653, 654, 2323, 435, 56, 345, 346}\n",
      "{56, 346, 12, 654}\n"
     ]
    }
   ],
   "source": [
    "#集合的内涵\n",
    "#普通集合内涵\n",
    "s={2323,435,654,67,345,346,7,653,3,3,3,12,56}\n",
    "print(s)\n",
    "#自动把重复的过滤掉了\n",
    "\n",
    "ss={i for i in s if i%2 ==0} #挑出偶数\n",
    "print(ss)"
   ]
  },
  {
   "cell_type": "code",
   "execution_count": 37,
   "metadata": {},
   "outputs": [
    {
     "name": "stdout",
     "output_type": "stream",
     "text": [
      "{'lovelovelovelove', 'i', 'you', 'lovelovelove', 'youyouyouyou', 'love', 'youyou', 'iii', 'lovelove', 'youyouyou', 'iiii', 'ii'}\n"
     ]
    }
   ],
   "source": [
    "#多循环的集合内涵\n",
    "s1={1,2,3,4}\n",
    "s2={\"i\",\"love\",\"you\"}\n",
    "s={m*n for m in s2 for n in s1}\n",
    "print(s)"
   ]
  },
  {
   "cell_type": "code",
   "execution_count": 38,
   "metadata": {},
   "outputs": [],
   "source": [
    "#集合函数 关于集合的函数"
   ]
  },
  {
   "cell_type": "code",
   "execution_count": 39,
   "metadata": {},
   "outputs": [
    {
     "name": "stdout",
     "output_type": "stream",
     "text": [
      "5\n",
      "567\n",
      "23\n"
     ]
    }
   ],
   "source": [
    "s={32,45,567,324,23,32,32}\n",
    "print(len(s))\n",
    "print(max(s))\n",
    "print(min(s))"
   ]
  },
  {
   "cell_type": "code",
   "execution_count": 41,
   "metadata": {},
   "outputs": [
    {
     "name": "stdout",
     "output_type": "stream",
     "text": [
      "{1, 3, 4, 6, 7, 8}\n"
     ]
    }
   ],
   "source": [
    "#set：生成一个集合\n",
    "l=[1,3,4,6,7,8]\n",
    "s=set(l)\n",
    "print(s)"
   ]
  },
  {
   "cell_type": "code",
   "execution_count": 43,
   "metadata": {},
   "outputs": [
    {
     "name": "stdout",
     "output_type": "stream",
     "text": [
      "{1, 21}\n"
     ]
    }
   ],
   "source": [
    "#add:向集合内添加元素\n",
    "s={1}\n",
    "s.add(21)\n",
    "print(s)"
   ]
  },
  {
   "cell_type": "code",
   "execution_count": 44,
   "metadata": {},
   "outputs": [
    {
     "name": "stdout",
     "output_type": "stream",
     "text": [
      "505128661064\n",
      "505128661064\n"
     ]
    }
   ],
   "source": [
    "#clear\n",
    "s={32,45,567,324,23,32,32}\n",
    "print(id(s))\n",
    "s.clear()\n",
    "print(id(s))\n",
    "#结果表明clear原地清空数据"
   ]
  },
  {
   "cell_type": "code",
   "execution_count": 45,
   "metadata": {},
   "outputs": [
    {
     "name": "stdout",
     "output_type": "stream",
     "text": [
      "{1, 2, 3, 7, 556}\n",
      "{2, 3, 7, 556}\n"
     ]
    }
   ],
   "source": [
    "#copy:拷贝 \n",
    "#remove:移除指定的值，直接改变原有值，如果要删除的值不存在，报错  \n",
    "#discard:移除集合中指定的值，如果要删除的值不存在，不报错  \n",
    "s={1,2,3,4,556,7,}\n",
    "s.remove(4)\n",
    "print(s)\n",
    "\n",
    "s.discard(1)\n",
    "print(s)"
   ]
  },
  {
   "cell_type": "code",
   "execution_count": 47,
   "metadata": {},
   "outputs": [
    {
     "ename": "KeyError",
     "evalue": "100",
     "output_type": "error",
     "traceback": [
      "\u001b[1;31m---------------------------------------------------------------------------\u001b[0m",
      "\u001b[1;31mKeyError\u001b[0m                                  Traceback (most recent call last)",
      "\u001b[1;32m<ipython-input-47-c66074f56fd7>\u001b[0m in \u001b[0;36m<module>\u001b[1;34m()\u001b[0m\n\u001b[1;32m----> 1\u001b[1;33m \u001b[0ms\u001b[0m\u001b[1;33m.\u001b[0m\u001b[0mremove\u001b[0m\u001b[1;33m(\u001b[0m\u001b[1;36m100\u001b[0m\u001b[1;33m)\u001b[0m\u001b[1;33m\u001b[0m\u001b[0m\n\u001b[0m\u001b[0;32m      2\u001b[0m \u001b[0mprint\u001b[0m\u001b[1;33m(\u001b[0m\u001b[0ms\u001b[0m\u001b[1;33m)\u001b[0m\u001b[1;33m\u001b[0m\u001b[0m\n",
      "\u001b[1;31mKeyError\u001b[0m: 100"
     ]
    }
   ],
   "source": [
    "s.remove(100)\n",
    "print(s)"
   ]
  },
  {
   "cell_type": "code",
   "execution_count": 48,
   "metadata": {},
   "outputs": [
    {
     "name": "stdout",
     "output_type": "stream",
     "text": [
      "1\n",
      "{2, 3, 4, 7, 556}\n"
     ]
    }
   ],
   "source": [
    "#pop:随机移除一个元素\n",
    "s={1,2,3,4,556,7,}\n",
    "d=s.pop()\n",
    "print(d)\n",
    "print(s)"
   ]
  },
  {
   "cell_type": "code",
   "execution_count": 51,
   "metadata": {},
   "outputs": [
    {
     "name": "stdout",
     "output_type": "stream",
     "text": [
      "{5}\n",
      "{1, 2, 3, 4}\n",
      "False\n"
     ]
    }
   ],
   "source": [
    "#集合函数\n",
    "#intersection:交集\n",
    "#difference:差集\n",
    "#union:并集\n",
    "#issubset:检查一个集合是否为另一个的子集\n",
    "#issuperset:检查一个集合是否为另一个的超集\n",
    "s1={1,2,3,4,5}\n",
    "s2={5,6,7,8}\n",
    "s_1=s1.intersection(s2)\n",
    "print(s_1)\n",
    "\n",
    "s_2=s1.difference(s2)\n",
    "print(s_2)\n",
    "\n",
    "s_3=s1.issubset(s2)\n",
    "print(s_3)"
   ]
  },
  {
   "cell_type": "code",
   "execution_count": 53,
   "metadata": {},
   "outputs": [],
   "source": [
    "#frozen set:冰冻集合\n",
    "#冰冻集合就是不可以进行任何修改的集合"
   ]
  },
  {
   "cell_type": "code",
   "execution_count": 55,
   "metadata": {},
   "outputs": [
    {
     "name": "stdout",
     "output_type": "stream",
     "text": [
      "frozenset()\n",
      "<class 'frozenset'>\n"
     ]
    }
   ],
   "source": [
    "#创建\n",
    "s=frozenset()\n",
    "print(s)\n",
    "print(type(s))"
   ]
  },
  {
   "cell_type": "markdown",
   "metadata": {},
   "source": [
    "#dict字典\n",
    "-字典是一种组合数据，没有顺序的组合数据，数据以键值对形式出现"
   ]
  },
  {
   "cell_type": "code",
   "execution_count": 61,
   "metadata": {},
   "outputs": [
    {
     "name": "stdout",
     "output_type": "stream",
     "text": [
      "{}\n",
      "{}\n",
      "{'one': 1, 'two': 2, 'three': 3}\n",
      "{'one': 1, 'two': 2, 'three': 3}\n",
      "{'one': 1, 'two': 2, 'three': 3}\n",
      "{'three': 3, 'two': 2, 'one': 1}\n"
     ]
    }
   ],
   "source": [
    "#字典的创建\n",
    "#创建空字典1\n",
    "d={}\n",
    "print(d)\n",
    "\n",
    "#创建空字典2\n",
    "d=dict()\n",
    "print(d)\n",
    "\n",
    "#创建有值的空字典，每一组数据用冒号隔开，每一对键值用逗号隔开\n",
    "d={\"one\":1,\"two\":2,\"three\":3}\n",
    "print(d)\n",
    "\n",
    "#用dict创建有内容字典1\n",
    "d=dict({\"one\":1,\"two\":2,\"three\":3})\n",
    "print(d)\n",
    "\n",
    "#用dict创建有内容字典2\n",
    "d=dict(one=1,two=2,three=3)\n",
    "print(d)\n",
    "\n",
    "#用dict创建有内容字典3\n",
    "d=dict({(\"one\",1),(\"two\",2),(\"three\",3)})\n",
    "print(d)"
   ]
  },
  {
   "cell_type": "markdown",
   "metadata": {},
   "source": [
    "#字典的特征\n",
    "-字典是序列类型，但是是无序序列，所以没有分片和索引\n",
    "-字典中的数据每个都由键值对组成，即kv对\n",
    "    -key:必须是可哈希值，比如int,string,float,tuple,但是List，set，dict不行\n",
    "    -value：任何值"
   ]
  },
  {
   "cell_type": "code",
   "execution_count": 65,
   "metadata": {},
   "outputs": [
    {
     "name": "stdout",
     "output_type": "stream",
     "text": [
      "1\n",
      "{'one': 'eins', 'two': 2, 'three': 3}\n",
      "{'two': 2, 'three': 3}\n"
     ]
    }
   ],
   "source": [
    "#常见操作\n",
    "#访问数据\n",
    "d={\"one\":1,\"two\":2,\"three\":3}\n",
    "#注意访问格式\n",
    "#中括号内是键值\n",
    "print(d[\"one\"])\n",
    "\n",
    "d[\"one\"]=\"eins\"\n",
    "print(d)\n",
    "\n",
    "#使用del操作\n",
    "del d[\"one\"]\n",
    "print(d)"
   ]
  },
  {
   "cell_type": "code",
   "execution_count": 66,
   "metadata": {},
   "outputs": [
    {
     "name": "stdout",
     "output_type": "stream",
     "text": [
      "key\n"
     ]
    }
   ],
   "source": [
    "#成员检测 in, not in\n",
    "d={\"one\":1,\"two\":2,\"three\":3}\n",
    "if 2 in d:\n",
    "    print(\"value\")\n",
    "    \n",
    "if \"two\" in d:\n",
    "    print(\"key\")\n",
    "\n",
    "if (\"two\",2) in d: \n",
    "    print(\"kv\")\n",
    "#成员检测之检测的是key的内容"
   ]
  },
  {
   "cell_type": "code",
   "execution_count": 70,
   "metadata": {},
   "outputs": [
    {
     "name": "stdout",
     "output_type": "stream",
     "text": [
      "one 1\n",
      "two 2\n",
      "three 3\n",
      "one 1\n",
      "two 2\n",
      "three 3\n",
      "1\n",
      "2\n",
      "3\n",
      "one -- 1\n",
      "two -- 2\n",
      "three -- 3\n"
     ]
    }
   ],
   "source": [
    "#遍历在python2和3中区别大，代码不通用\n",
    "#按key来使用for循环\n",
    "d={\"one\":1,\"two\":2,\"three\":3}\n",
    "for k in d:\n",
    "    print(k, d[k])\n",
    "    \n",
    "#也可写成\n",
    "for k in d.keys():\n",
    "    print(k, d[k])\n",
    "    \n",
    "#只访问字典的值\n",
    "for v in d.values():\n",
    "    print(v)\n",
    "    \n",
    "#特殊用法\n",
    "for k,v in d.items():\n",
    "    print(k,\"--\",v)"
   ]
  },
  {
   "cell_type": "code",
   "execution_count": null,
   "metadata": {},
   "outputs": [],
   "source": [
    "#字典生成式"
   ]
  },
  {
   "cell_type": "code",
   "execution_count": 72,
   "metadata": {},
   "outputs": [
    {
     "name": "stdout",
     "output_type": "stream",
     "text": [
      "{'one': 1, 'two': 2, 'three': 3}\n",
      "{'two': 2}\n"
     ]
    }
   ],
   "source": [
    "d={\"one\":1,\"two\":2,\"three\":3}\n",
    "dd={k:v for k,v in d.items()}\n",
    "print(dd)\n",
    "\n",
    "#加限制条件的字典生成式\n",
    "dd={k:v for k,v in d.items() if v%2==0}\n",
    "print(dd)"
   ]
  },
  {
   "cell_type": "code",
   "execution_count": 73,
   "metadata": {},
   "outputs": [],
   "source": [
    "#字典的相关函数"
   ]
  },
  {
   "cell_type": "code",
   "execution_count": 74,
   "metadata": {},
   "outputs": [
    {
     "name": "stdout",
     "output_type": "stream",
     "text": [
      "{'one': 1, 'two': 2, 'three': 3}\n"
     ]
    }
   ],
   "source": [
    "#通用函数 len,max,min,dict\n",
    "#str(字典)：返回字典的字符串格式\n",
    "d={\"one\":1,\"two\":2,\"three\":3}\n",
    "print(str(d))"
   ]
  },
  {
   "cell_type": "code",
   "execution_count": 76,
   "metadata": {},
   "outputs": [
    {
     "name": "stdout",
     "output_type": "stream",
     "text": [
      "<class 'dict_items'>\n",
      "dict_items([('one', 1), ('two', 2), ('three', 3)])\n"
     ]
    }
   ],
   "source": [
    "#clear:请空字典\n",
    "#items:返回字典的键值对组成的元组格式\n",
    "\n",
    "d={\"one\":1,\"two\":2,\"three\":3}\n",
    "i=d.items()\n",
    "print(type(i))\n",
    "print(i)"
   ]
  },
  {
   "cell_type": "code",
   "execution_count": 77,
   "metadata": {},
   "outputs": [
    {
     "name": "stdout",
     "output_type": "stream",
     "text": [
      "<class 'dict_keys'>\n",
      "dict_keys(['one', 'two', 'three'])\n"
     ]
    }
   ],
   "source": [
    "#keys:返回字典的键组成的一个结构\n",
    "k=d.keys()\n",
    "print(type(k))\n",
    "print(k)"
   ]
  },
  {
   "cell_type": "code",
   "execution_count": 79,
   "metadata": {},
   "outputs": [
    {
     "name": "stdout",
     "output_type": "stream",
     "text": [
      "<class 'dict_values'>\n",
      "dict_values([1, 2, 3])\n"
     ]
    }
   ],
   "source": [
    "#values:同理，一个可迭代的结构\n",
    "v=d.values()\n",
    "print(type(v))\n",
    "print(v)"
   ]
  },
  {
   "cell_type": "code",
   "execution_count": 86,
   "metadata": {},
   "outputs": [
    {
     "name": "stdout",
     "output_type": "stream",
     "text": [
      "1\n",
      "1\n",
      "None\n"
     ]
    }
   ],
   "source": [
    "#get:根据指定键返回相应的值，好处是可以设置默认值\n",
    "d={\"one\":1,\"two\":2,\"three\":3}\n",
    "print(d.get(\"one\"))\n",
    "print(d.get(\"one\",100))  #如果没有one的值，自动设置成100\n",
    "print(d.get(\"on22\"))"
   ]
  },
  {
   "cell_type": "code",
   "execution_count": 81,
   "metadata": {},
   "outputs": [
    {
     "name": "stdout",
     "output_type": "stream",
     "text": [
      "100\n"
     ]
    }
   ],
   "source": [
    "#get默认值是None,可以设置\n",
    "print(d.get(\"on22\",100))"
   ]
  },
  {
   "cell_type": "code",
   "execution_count": 82,
   "metadata": {},
   "outputs": [
    {
     "name": "stdout",
     "output_type": "stream",
     "text": [
      "{'eins': 'hahhaah', 'zwei': 'hahhaah', 'drei': 'hahhaah'}\n"
     ]
    }
   ],
   "source": [
    "#fromkeys：使用一个值作为字典所有的键的值\n",
    "l=[\"eins\",\"zwei\",\"drei\"]\n",
    "d=dict.fromkeys(l,\"hahhaah\")\n",
    "print(d)"
   ]
  }
 ],
 "metadata": {
  "kernelspec": {
   "display_name": "Python 3",
   "language": "python",
   "name": "python3"
  },
  "language_info": {
   "codemirror_mode": {
    "name": "ipython",
    "version": 3
   },
   "file_extension": ".py",
   "mimetype": "text/x-python",
   "name": "python",
   "nbconvert_exporter": "python",
   "pygments_lexer": "ipython3",
   "version": "3.7.0"
  }
 },
 "nbformat": 4,
 "nbformat_minor": 2
}
