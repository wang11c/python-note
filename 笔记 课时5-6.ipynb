{
 "cells": [
  {
   "cell_type": "markdown",
   "metadata": {},
   "source": [
    "课时5\n",
    "\n",
    "转义字符\n",
    "如果真的要用\\，如c:\\user，就打两个"
   ]
  },
  {
   "cell_type": "code",
   "execution_count": 1,
   "metadata": {},
   "outputs": [
    {
     "ename": "SyntaxError",
     "evalue": "(unicode error) 'unicodeescape' codec can't decode bytes in position 2-3: truncated \\uXXXX escape (<ipython-input-1-76961cfd3bfb>, line 1)",
     "output_type": "error",
     "traceback": [
      "\u001b[1;36m  File \u001b[1;32m\"<ipython-input-1-76961cfd3bfb>\"\u001b[1;36m, line \u001b[1;32m1\u001b[0m\n\u001b[1;33m    s=\"c:\\user\"\u001b[0m\n\u001b[1;37m     ^\u001b[0m\n\u001b[1;31mSyntaxError\u001b[0m\u001b[1;31m:\u001b[0m (unicode error) 'unicodeescape' codec can't decode bytes in position 2-3: truncated \\uXXXX escape\n"
     ]
    }
   ],
   "source": [
    "s=\"c:\\user\"\n",
    "print(s)"
   ]
  },
  {
   "cell_type": "code",
   "execution_count": 30,
   "metadata": {},
   "outputs": [
    {
     "name": "stdout",
     "output_type": "stream",
     "text": [
      "c:\\user\n"
     ]
    }
   ],
   "source": [
    "s=\"c:\\\\user\"\n",
    "print(s)"
   ]
  },
  {
   "cell_type": "markdown",
   "metadata": {},
   "source": [
    "如果打印ss='let's go'"
   ]
  },
  {
   "cell_type": "code",
   "execution_count": 31,
   "metadata": {},
   "outputs": [
    {
     "ename": "SyntaxError",
     "evalue": "invalid syntax (<ipython-input-31-3bfbe87b8ba2>, line 1)",
     "output_type": "error",
     "traceback": [
      "\u001b[1;36m  File \u001b[1;32m\"<ipython-input-31-3bfbe87b8ba2>\"\u001b[1;36m, line \u001b[1;32m1\u001b[0m\n\u001b[1;33m    ss='let's go'\u001b[0m\n\u001b[1;37m            ^\u001b[0m\n\u001b[1;31mSyntaxError\u001b[0m\u001b[1;31m:\u001b[0m invalid syntax\n"
     ]
    }
   ],
   "source": [
    "ss='let's go'\n",
    "print(ss)"
   ]
  },
  {
   "cell_type": "code",
   "execution_count": 33,
   "metadata": {},
   "outputs": [
    {
     "name": "stdout",
     "output_type": "stream",
     "text": [
      "let's go\n"
     ]
    }
   ],
   "source": [
    "ss='let\\'s go'\n",
    "print(ss)"
   ]
  },
  {
   "cell_type": "markdown",
   "metadata": {},
   "source": [
    "\\要放在'的前面才能转义"
   ]
  },
  {
   "cell_type": "code",
   "execution_count": 38,
   "metadata": {},
   "outputs": [
    {
     "name": "stdout",
     "output_type": "stream",
     "text": [
      "i love \n",
      " jb\n"
     ]
    }
   ],
   "source": [
    "s1= \"i love \\n jb\"\n",
    "print(s1)"
   ]
  },
  {
   "cell_type": "markdown",
   "metadata": {},
   "source": [
    "\\n表示换行"
   ]
  },
  {
   "cell_type": "markdown",
   "metadata": {},
   "source": [
    "如果想要字符串格式化，把字符串按照一定格式打印或者填充\n",
    "如：\n",
    "s=\"XXX,不吃白不吃，吃了也白吃\" XXX用人名填充\n",
    "1.用百分号 %d代表整数， %s代表一个字符串\n",
    "2.用format函数"
   ]
  },
  {
   "cell_type": "code",
   "execution_count": 41,
   "metadata": {},
   "outputs": [
    {
     "name": "stdout",
     "output_type": "stream",
     "text": [
      "王川,i love you\n"
     ]
    }
   ],
   "source": [
    "s=\"%s,i love you\" %\"王川\"\n",
    "print(s)"
   ]
  },
  {
   "cell_type": "code",
   "execution_count": 45,
   "metadata": {},
   "outputs": [
    {
     "name": "stdout",
     "output_type": "stream",
     "text": [
      "i am 18 years old\n"
     ]
    }
   ],
   "source": [
    "s= \"i am %d years old\" %18\n",
    "print(s)"
   ]
  },
  {
   "cell_type": "code",
   "execution_count": 49,
   "metadata": {},
   "outputs": [
    {
     "name": "stdout",
     "output_type": "stream",
     "text": [
      "i am 18 years old\n"
     ]
    }
   ],
   "source": [
    "s= \"i am %d years old\"\n",
    "print(s%18)"
   ]
  },
  {
   "cell_type": "markdown",
   "metadata": {},
   "source": [
    "一句话里有几个占位符，就必须要有几个占位符代替"
   ]
  },
  {
   "cell_type": "code",
   "execution_count": 59,
   "metadata": {},
   "outputs": [
    {
     "name": "stdout",
     "output_type": "stream",
     "text": [
      "i am 王川, i am 18 years old\n"
     ]
    }
   ],
   "source": [
    "s= \"i am %s, i am %d years old\" \n",
    "print(s%(\"王川\",18))"
   ]
  },
  {
   "cell_type": "markdown",
   "metadata": {},
   "source": [
    "推荐使用format函数，以｛｝和：代替%号"
   ]
  },
  {
   "cell_type": "code",
   "execution_count": 62,
   "metadata": {},
   "outputs": [
    {
     "name": "stdout",
     "output_type": "stream",
     "text": [
      "i love 王川\n"
     ]
    }
   ],
   "source": [
    "s=\"i love {}\".format(\"王川\")\n",
    "print(s)"
   ]
  },
  {
   "cell_type": "code",
   "execution_count": 64,
   "metadata": {},
   "outputs": [
    {
     "name": "stdout",
     "output_type": "stream",
     "text": [
      "i am 18 years old, i love 王川 and i am 18 years old.\n"
     ]
    }
   ],
   "source": [
    "s=\"i am {1} years old, i love {0} and i am {1} years old.\".format(\"王川\",18)\n",
    "print(s)"
   ]
  },
  {
   "cell_type": "markdown",
   "metadata": {},
   "source": [
    "算数运算符，乘号用*，除号用/"
   ]
  },
  {
   "cell_type": "code",
   "execution_count": 68,
   "metadata": {},
   "outputs": [
    {
     "name": "stdout",
     "output_type": "stream",
     "text": [
      "7\n",
      "10\n",
      "2.5\n"
     ]
    }
   ],
   "source": [
    "a=5+2\n",
    "b=5*2\n",
    "c=5/2\n",
    "print(a)\n",
    "print(b)\n",
    "print(c)"
   ]
  },
  {
   "cell_type": "markdown",
   "metadata": {},
   "source": [
    "python 2.0和python3.0，除号结果可能不一致\n",
    "\n",
    "% 取余数运算"
   ]
  },
  {
   "cell_type": "code",
   "execution_count": 70,
   "metadata": {},
   "outputs": [
    {
     "name": "stdout",
     "output_type": "stream",
     "text": [
      "1\n"
     ]
    }
   ],
   "source": [
    "a=9%4\n",
    "print(a)"
   ]
  },
  {
   "cell_type": "markdown",
   "metadata": {},
   "source": [
    "//表示取商运算，也叫地板除"
   ]
  },
  {
   "cell_type": "code",
   "execution_count": 72,
   "metadata": {},
   "outputs": [
    {
     "name": "stdout",
     "output_type": "stream",
     "text": [
      "2\n"
     ]
    }
   ],
   "source": [
    "a=9//4\n",
    "print(a)"
   ]
  },
  {
   "cell_type": "markdown",
   "metadata": {},
   "source": [
    "**表示幂运算"
   ]
  },
  {
   "cell_type": "code",
   "execution_count": 1,
   "metadata": {},
   "outputs": [
    {
     "name": "stdout",
     "output_type": "stream",
     "text": [
      "81\n"
     ]
    }
   ],
   "source": [
    "a=9**2\n",
    "print(a)"
   ]
  },
  {
   "cell_type": "markdown",
   "metadata": {},
   "source": [
    "比较运算符：对两个变量或者值进行比较，比较的结果是个布尔值true/false"
   ]
  },
  {
   "cell_type": "code",
   "execution_count": 4,
   "metadata": {},
   "outputs": [
    {
     "data": {
      "text/plain": [
       "False"
      ]
     },
     "execution_count": 4,
     "metadata": {},
     "output_type": "execute_result"
    }
   ],
   "source": [
    "b=a==80\n",
    "b"
   ]
  },
  {
   "cell_type": "markdown",
   "metadata": {},
   "source": [
    "81等于80，所以False"
   ]
  },
  {
   "cell_type": "markdown",
   "metadata": {},
   "source": [
    "!=不等于 >=大于等于 <=小于等于"
   ]
  },
  {
   "cell_type": "markdown",
   "metadata": {},
   "source": [
    "赋值运算符 "
   ]
  },
  {
   "cell_type": "code",
   "execution_count": 5,
   "metadata": {},
   "outputs": [],
   "source": [
    "#=\n",
    "a=0\n",
    "c=a=4\n",
    "#缩写 += a+=7就是a=a+7 还有-= /= //= **="
   ]
  },
  {
   "cell_type": "markdown",
   "metadata": {},
   "source": [
    "逻辑运算符 对布尔值进行计算的符号\n",
    "and 逻辑与  or 逻辑或  not 逻辑非 \n",
    "运算规则：and看做乘法，or看做加法，true看做1，false看做2\n",
    "最后结果如果是0则为false，否则为true"
   ]
  },
  {
   "cell_type": "code",
   "execution_count": 11,
   "metadata": {},
   "outputs": [
    {
     "name": "stdout",
     "output_type": "stream",
     "text": [
      "True\n",
      "True\n"
     ]
    }
   ],
   "source": [
    "a=True\n",
    "b=False\n",
    "c=True\n",
    "d=a and b or c  #a*b+c\n",
    "print(d)\n",
    "e= a or b and a #1+0*1\n",
    "print(e)"
   ]
  },
  {
   "cell_type": "markdown",
   "metadata": {},
   "source": [
    "逻辑运算的短路问题：逻辑运算式，按照顺序计算，一旦能够确定整个式子未来的值，则不再进行计算，直接返回"
   ]
  },
  {
   "cell_type": "code",
   "execution_count": 13,
   "metadata": {},
   "outputs": [
    {
     "name": "stdout",
     "output_type": "stream",
     "text": [
      "True\n"
     ]
    }
   ],
   "source": [
    "#短路示例\n",
    "a= True or xxxxxxxx\n",
    "#运行到or的时候，整个表达式不再向下计算\n",
    "print(a)"
   ]
  },
  {
   "cell_type": "markdown",
   "metadata": {},
   "source": [
    "成员运算符号 用来检测某一个变量是否是另外一个变量的成员\n",
    "in, not in"
   ]
  },
  {
   "cell_type": "code",
   "execution_count": null,
   "metadata": {},
   "outputs": [],
   "source": [
    "l=[1,2,3,4,5]\n",
    "a=7\n",
    "b=a in l\n",
    "print(b)\n",
    "e=4\n",
    "print(e not in l)"
   ]
  },
  {
   "cell_type": "markdown",
   "metadata": {},
   "source": [
    "身份运算 \n",
    "is 用来检测两个变量是否是同一个变量 语法就是var1 is var2\n",
    "is not 两个变量不是同一个变量"
   ]
  },
  {
   "cell_type": "code",
   "execution_count": null,
   "metadata": {},
   "outputs": [],
   "source": [
    "a=9\n",
    "b=9\n",
    "print(a is b)"
   ]
  },
  {
   "cell_type": "markdown",
   "metadata": {},
   "source": [
    "运算符的优先级问题\n",
    "-永远记住，括号具有最高优先级\n",
    "**指数 最高优先级"
   ]
  },
  {
   "cell_type": "markdown",
   "metadata": {},
   "source": [
    "三大结构\n",
    "-顺序\n",
    "-分支\n",
    "-循环\n",
    "\n",
    "分支\n",
    "-分支的基本语法\n",
    "if条件表达式：\n",
    "语句1\n",
    "语句2\n",
    "语句3\n",
    "......\n",
    "\n",
    "条件表达式就是计算结果必须为布尔值的表达式，结果为true执行后面的语句块\n",
    "表达式后面的冒号不能少\n",
    "如果if后面出现的语句属于一个语句块，则必须在同一缩进等级"
   ]
  },
  {
   "cell_type": "code",
   "execution_count": 25,
   "metadata": {},
   "outputs": [
    {
     "name": "stdout",
     "output_type": "stream",
     "text": [
      "老司机\n"
     ]
    }
   ],
   "source": [
    "age=19\n",
    "if age<18:\n",
    "    print(\"去叫家长吧，孩纸\")\n",
    "    print(\"我们不带你玩儿\")\n",
    "    \n",
    "print(\"老司机\")\n",
    "# 前两句print是在if里，第三句是单独的"
   ]
  },
  {
   "cell_type": "markdown",
   "metadata": {},
   "source": [
    "#双向分支\n",
    "if...else...语句\n",
    "if 条件表达式：\n",
    "   语句1\n",
    "   语句2\n",
    "   ...\n",
    "else：\n",
    "   语句1\n",
    "   语句2\n",
    "   ..."
   ]
  },
  {
   "cell_type": "code",
   "execution_count": null,
   "metadata": {},
   "outputs": [],
   "source": [
    "gender=input(\"输入性别：\")\n",
    "print(\"你输入的性别是:{0}\".format(gender))\n",
    "if gender==\"nan\":\n",
    "    print(\"来吧\")\n",
    "else:\n",
    "    print(\"别来了\")"
   ]
  },
  {
   "cell_type": "code",
   "execution_count": null,
   "metadata": {},
   "outputs": [],
   "source": [
    "score=input(\"请输入学生成绩：\")\n",
    "#字符串不能和数字直接比较，字符串要转换成数字\n",
    "score=int(score)\n",
    "if score>=90:\n",
    "    print(\"A\")\n",
    "if score >=80 and score<90:\n",
    "    print(\"B\")\n",
    "if score >=70 and score<80:\n",
    "    print(\"C\")\n",
    "if score >=60 and score<70:\n",
    "    print(\"D\")"
   ]
  },
  {
   "cell_type": "markdown",
   "metadata": {},
   "source": [
    "多路分支  可以替换上面\n",
    "-很多分支的情况\n",
    "\n",
    "if 条件表达式：\n",
    "    语句1\n",
    "    ...\n",
    "elif 条件表达式：\n",
    "    语句1\n",
    "    ...\n",
    "\n",
    "else:\n",
    "    语句1\n",
    "    ...\n",
    "\n",
    "-elif可以有无数个\n",
    "-else可以没有\n",
    "-多路分支只会选一个执行"
   ]
  },
  {
   "cell_type": "code",
   "execution_count": null,
   "metadata": {},
   "outputs": [],
   "source": [
    "score=input(\"请输入学生成绩：\")\n",
    "score=int(score)\n",
    "if score>=90:\n",
    "    print(\"A\")\n",
    "elif score >=80 and score<90:\n",
    "    print(\"B\")\n",
    "elif score >=70 and score<80:\n",
    "    print(\"C\")\n",
    "elif score >=60 and score<70:\n",
    "    print(\"D\")\n",
    "else\n",
    "    print(\"你不是我学生\")"
   ]
  },
  {
   "cell_type": "markdown",
   "metadata": {},
   "source": [
    "if语句其他：\n",
    "-if语句可以嵌套使用，但是不推荐"
   ]
  },
  {
   "cell_type": "markdown",
   "metadata": {},
   "source": [
    "循环语句\n",
    "-重复执行某些固定动作或者处理基本固定的事物\n",
    "-分类\n",
    "    - for循环\n",
    "    - while循环\n",
    "for循环\n",
    "\n",
    "    for 变量 in 序列：\n",
    "        语句1\n",
    "        语句2\n",
    "        ..."
   ]
  },
  {
   "cell_type": "code",
   "execution_count": null,
   "metadata": {},
   "outputs": [],
   "source": [
    "#列表就是一列数字或者其他值，一般用中括号表示\n",
    "#例如 [\"yi\"，\"er\"，\"san\"]\n",
    "#打印列表\n",
    "for name in  [\"yi\"，\"er\"，\"san\"]：\n",
    "    print(\"name\")\n",
    "    if name = \"yi\"：\n",
    "        print(\"是我的{0}.format(name)\")\n",
    "    else:\n",
    "        print(\"不是我\")"
   ]
  },
  {
   "cell_type": "markdown",
   "metadata": {},
   "source": [
    "range介绍\n",
    "-生成一个数字序列\n",
    "-具体范围可以设定\n",
    "-数字范围包左不包右\n",
    "-range函数在python2和python3中区别很大"
   ]
  },
  {
   "cell_type": "code",
   "execution_count": null,
   "metadata": {},
   "outputs": [],
   "source": [
    "for i in range(1,10)：\n",
    "    print(i)"
   ]
  },
  {
   "cell_type": "markdown",
   "metadata": {},
   "source": [
    "for-else语句\n",
    "-当for循环结束的时候，执行else语句\n",
    "-else语句是可选语句"
   ]
  },
  {
   "cell_type": "code",
   "execution_count": 13,
   "metadata": {},
   "outputs": [
    {
     "name": "stdout",
     "output_type": "stream",
     "text": [
      "name\n",
      "是我的{0}.format(name)\n",
      "name\n",
      "不是我\n",
      "name\n",
      "不是我\n",
      "不在\n"
     ]
    }
   ],
   "source": [
    "#打印的东西不在列表中，需要有提示语句\n",
    "for name in  [\"yi\",\"er\",\"san\"]:\n",
    "    print(\"name\")\n",
    "    if name == \"yi\":\n",
    "        print(\"是我的{0}.format(name)\")\n",
    "    else:\n",
    "        print(\"不是我\")\n",
    "else:\n",
    "    print(\"不在\")"
   ]
  },
  {
   "cell_type": "code",
   "execution_count": null,
   "metadata": {},
   "outputs": [],
   "source": [
    "##循环之break, countinue, pass\n",
    "-break:一旦执行到这，无条件结束整个循环，简称循环猝死\n",
    "-continue：无条件结束本次循环，重新进入下一轮循环\n",
    "-pass:表示略过，一般用于占位"
   ]
  },
  {
   "cell_type": "code",
   "execution_count": 5,
   "metadata": {},
   "outputs": [
    {
     "name": "stdout",
     "output_type": "stream",
     "text": [
      "1\n",
      "2\n",
      "3\n",
      "4\n",
      "5\n",
      "6\n",
      "找到了\n"
     ]
    }
   ],
   "source": [
    "#在1-10的数字中寻找数字7，一旦找到了，就打印出来，其他什么都不做\n",
    "for i in range(1,11):\n",
    "    if i==7:\n",
    "        print(\"找到了\")\n",
    "        break\n",
    "    else:\n",
    "        print(i)"
   ]
  },
  {
   "cell_type": "code",
   "execution_count": null,
   "metadata": {},
   "outputs": [],
   "source": [
    "#在1-10的数字中寻找所有偶数，一旦找到了，就打印出来\n",
    "for i in range(1,11):\n",
    "    if i%2==1：#基数\n",
    "        continue\n",
    "    else:\n",
    "        print(\"{0}是偶数.format(i)\")"
   ]
  },
  {
   "cell_type": "code",
   "execution_count": 3,
   "metadata": {},
   "outputs": [
    {
     "name": "stdout",
     "output_type": "stream",
     "text": [
      "一二三\n",
      "一二三\n",
      "一二三\n",
      "一二三\n",
      "一二三\n",
      "一二三\n",
      "一二三\n",
      "一二三\n",
      "一二三\n",
      "一二三\n"
     ]
    }
   ],
   "source": [
    "for i in range(1,11):\n",
    "    pass\n",
    "    print(\"一二三\")"
   ]
  }
 ],
 "metadata": {
  "kernelspec": {
   "display_name": "Python 3",
   "language": "python",
   "name": "python3"
  },
  "language_info": {
   "codemirror_mode": {
    "name": "ipython",
    "version": 3
   },
   "file_extension": ".py",
   "mimetype": "text/x-python",
   "name": "python",
   "nbconvert_exporter": "python",
   "pygments_lexer": "ipython3",
   "version": "3.7.0"
  }
 },
 "nbformat": 4,
 "nbformat_minor": 2
}
